{
 "cells": [
  {
   "cell_type": "code",
   "execution_count": 1,
   "id": "371663e0",
   "metadata": {},
   "outputs": [],
   "source": [
    "import glob\n",
    "import pandas as pd\n",
    "from sklearn.model_selection import train_test_split\n",
    "import numpy as np\n",
    "import matplotlib.pyplot as plt\n",
    "from sklearn.preprocessing import LabelEncoder\n",
    "from imblearn.over_sampling import SMOTE\n",
    "from imblearn.under_sampling import EditedNearestNeighbours\n",
    "from collections import Counter\n",
    "import xgboost as xgb\n",
    "from sklearn.metrics import accuracy_score"
   ]
  },
  {
   "cell_type": "code",
   "execution_count": 2,
   "id": "3fa8f1f0",
   "metadata": {},
   "outputs": [
    {
     "name": "stdout",
     "output_type": "stream",
     "text": [
      "['D:/碩士機器學習/data/特徵87\\\\DrDoS_DNS.parquet', 'D:/碩士機器學習/data/特徵87\\\\DrDoS_LDAP.parquet', 'D:/碩士機器學習/data/特徵87\\\\DrDoS_MSSQL.parquet', 'D:/碩士機器學習/data/特徵87\\\\DrDoS_NetBIOS.parquet', 'D:/碩士機器學習/data/特徵87\\\\DrDoS_NTP.parquet', 'D:/碩士機器學習/data/特徵87\\\\DrDoS_SNMP.parquet', 'D:/碩士機器學習/data/特徵87\\\\DrDoS_SSDP.parquet', 'D:/碩士機器學習/data/特徵87\\\\DrDoS_UDP.parquet', 'D:/碩士機器學習/data/特徵87\\\\Syn.parquet', 'D:/碩士機器學習/data/特徵87\\\\TFTP.parquet', 'D:/碩士機器學習/data/特徵87\\\\UDPLag.parquet']\n"
     ]
    }
   ],
   "source": [
    "files = glob.glob(\"D:/碩士機器學習/data/特徵87/*.parquet\")\n",
    "print(files)"
   ]
  },
  {
   "cell_type": "code",
   "execution_count": 3,
   "id": "0c733e72",
   "metadata": {},
   "outputs": [
    {
     "name": "stdout",
     "output_type": "stream",
     "text": [
      "(48699876, 87)\n"
     ]
    }
   ],
   "source": [
    "df = [pd.read_parquet(file) for file in files]\n",
    "#print([i.shape for i in df])\n",
    "df_all = pd.concat(df,ignore_index=True)\n",
    "print(df_all.shape)"
   ]
  },
  {
   "cell_type": "code",
   "execution_count": 4,
   "id": "356deb08",
   "metadata": {},
   "outputs": [
    {
     "name": "stdout",
     "output_type": "stream",
     "text": [
      "Label\n",
      "TFTP             19515971\n",
      "DrDoS_SNMP        5149261\n",
      "DrDoS_DNS         4908665\n",
      "DrDoS_MSSQL       4396046\n",
      "DrDoS_NetBIOS     3963446\n",
      "DrDoS_UDP         3094002\n",
      "DrDoS_SSDP        2568569\n",
      "DrDoS_LDAP        2141300\n",
      "Syn               1379983\n",
      "DrDoS_NTP         1195690\n",
      "UDP-lag            330079\n",
      "Benign              56425\n",
      "WebDDoS               439\n",
      "Name: count, dtype: int64\n"
     ]
    }
   ],
   "source": [
    "# 有多少標籤種類\n",
    "label_counts1 = df_all['Label'].value_counts()\n",
    "print(label_counts1)"
   ]
  },
  {
   "cell_type": "code",
   "execution_count": 4,
   "id": "8053d38b",
   "metadata": {},
   "outputs": [
    {
     "name": "stdout",
     "output_type": "stream",
     "text": [
      "類別 DrDoS_DNS 的重複行:\n",
      "無重複值\n",
      "類別 Benign 的重複行:\n",
      "無重複值\n",
      "類別 DrDoS_LDAP 的重複行:\n",
      "無重複值\n",
      "類別 DrDoS_MSSQL 的重複行:\n",
      "無重複值\n",
      "類別 DrDoS_NetBIOS 的重複行:\n",
      "無重複值\n",
      "類別 DrDoS_NTP 的重複行:\n",
      "無重複值\n",
      "類別 DrDoS_SNMP 的重複行:\n",
      "無重複值\n",
      "類別 DrDoS_SSDP 的重複行:\n",
      "無重複值\n",
      "類別 DrDoS_UDP 的重複行:\n",
      "無重複值\n",
      "類別 Syn 的重複行:\n",
      "無重複值\n",
      "類別 TFTP 的重複行:\n",
      "無重複值\n",
      "類別 UDP-lag 的重複行:\n",
      "無重複值\n",
      "類別 WebDDoS 的重複行:\n",
      "無重複值\n"
     ]
    }
   ],
   "source": [
    "duplicates_by_label = {}\n",
    "# 遍歷所有的類別\n",
    "for label in df_all['Label'].unique():\n",
    "    subset = df_all[df_all['Label'] == label]  # 篩選出當前類別的數據\n",
    "    duplicates = subset[subset.duplicated()]  # 檢查重複行\n",
    "    duplicates_by_label[label] = duplicates #將結果存入字典\n",
    "\n",
    "# 輸出結果\n",
    "for label, duplicates in duplicates_by_label.items():\n",
    "    print(f\"類別 {label} 的重複行:\")\n",
    "    if duplicates.empty:\n",
    "        print(\"無重複值\")\n",
    "    else:\n",
    "        print(duplicates)"
   ]
  }
 ],
 "metadata": {
  "kernelspec": {
   "display_name": "tensorflow02",
   "language": "python",
   "name": "python3"
  },
  "language_info": {
   "codemirror_mode": {
    "name": "ipython",
    "version": 3
   },
   "file_extension": ".py",
   "mimetype": "text/x-python",
   "name": "python",
   "nbconvert_exporter": "python",
   "pygments_lexer": "ipython3",
   "version": "3.9.20"
  }
 },
 "nbformat": 4,
 "nbformat_minor": 5
}
