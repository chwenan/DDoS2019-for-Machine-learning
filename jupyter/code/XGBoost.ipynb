{
 "cells": [
  {
   "cell_type": "code",
   "execution_count": null,
   "id": "85e60a14",
   "metadata": {},
   "outputs": [],
   "source": [
    "import glob\n",
    "import pandas as pd\n",
    "from sklearn.model_selection import train_test_split\n",
    "import numpy as np\n",
    "import matplotlib.pyplot as plt\n",
    "from matplotlib import rcParams\n",
    "from sklearn.preprocessing import LabelEncoder\n",
    "from imblearn.over_sampling import SMOTE\n",
    "from imblearn.under_sampling import EditedNearestNeighbours\n",
    "from collections import Counter\n",
    "import xgboost as xgb\n",
    "from sklearn.metrics import accuracy_score ,confusion_matrix ,precision_score, recall_score, f1_score\n",
    "from sklearn.metrics import classification_report"
   ]
  },
  {
   "cell_type": "code",
   "execution_count": null,
   "id": "3515dacf",
   "metadata": {},
   "outputs": [],
   "source": [
    "# #讀取\n",
    "df_all = pd.read_parquet('D:/碩士機器學習/data/特徵87/600000數據實驗/df_all2.parquet')"
   ]
  },
  {
   "cell_type": "code",
   "execution_count": null,
   "id": "22952b30",
   "metadata": {},
   "outputs": [],
   "source": [
    "# 分特徵和標籤\n",
    "all_feature = df_all.drop(['Label'],axis = 1)\n",
    "all_labels = df_all['Label']\n",
    "print(all_feature.shape,all_labels.shape)"
   ]
  },
  {
   "cell_type": "code",
   "execution_count": null,
   "id": "c76eb04e",
   "metadata": {},
   "outputs": [],
   "source": [
    "#觀察\n",
    "label_counts = all_labels.value_counts(ascending=True)\n",
    "print(label_counts)\n",
    "\n",
    "#unique_values = all_feature[\"SimillarHTTP\"].unique()\n",
    "#print(unique_values)\n"
   ]
  },
  {
   "cell_type": "code",
   "execution_count": null,
   "id": "8bcee2fa",
   "metadata": {},
   "outputs": [],
   "source": [
    "#資料轉成數值型態\n",
    "le = LabelEncoder()\n",
    "all_label_tran = le.fit_transform(all_labels)\n",
    "all_feature['Source IP'] = LabelEncoder().fit_transform(all_feature['Source IP'])\n",
    "all_feature['Destination IP'] = LabelEncoder().fit_transform(all_feature['Destination IP'])\n",
    "all_feature['Timestamp'] = LabelEncoder().fit_transform(all_feature['Timestamp'])\n",
    "all_feature['Flow ID'] = LabelEncoder().fit_transform(all_feature['Flow ID'])\n",
    "all_feature['SimillarHTTP'] = LabelEncoder().fit_transform(all_feature['SimillarHTTP'])"
   ]
  },
  {
   "cell_type": "code",
   "execution_count": null,
   "id": "062efda4",
   "metadata": {},
   "outputs": [],
   "source": [
    "# xgboost前20特徵\n",
    "xgboost_feature_20 = all_feature[['Destination Port', 'Flow ID', 'Source Port', 'Timestamp', 'Fwd Header Length', 'Flow Bytes/s', 'Fwd Seg Size Min', 'Flow Duration', 'Fwd Packets Length Total', 'Fwd Header Length.1', 'Flow IAT Min', 'Packet Length Min', 'Fwd Packet Length Min', 'Fwd IAT Min', 'Fwd Packet Length Max', 'Flow IAT Mean', 'Fwd Packet Length Mean', 'Flow Packets/s', 'Avg Packet Size', 'Source IP']]\n",
    "xgboost_feature_5 = all_feature[['Destination Port', 'Flow ID', 'Source Port', 'Timestamp', 'Fwd Header Length']]\n",
    "xgboost_feature_3 = all_feature[['Destination Port', 'Flow ID', 'Source Port']]"
   ]
  },
  {
   "cell_type": "code",
   "execution_count": null,
   "id": "7194f4ba",
   "metadata": {},
   "outputs": [],
   "source": [
    "#歸一化[0-1]\n",
    "from sklearn.preprocessing import MinMaxScaler\n",
    "scaler = MinMaxScaler()\n",
    "normalized_features = pd.DataFrame(\n",
    "    scaler.fit_transform(all_feature),#xgboost_feature_5\n",
    "    columns=all_feature.columns)#xgboost_feature_5\n",
    "print(normalized_features)"
   ]
  },
  {
   "cell_type": "code",
   "execution_count": null,
   "id": "762e86bd",
   "metadata": {},
   "outputs": [],
   "source": [
    "#特徵列表\n",
    "df = pd.DataFrame(all_feature)\n",
    "print(df.info())"
   ]
  },
  {
   "cell_type": "code",
   "execution_count": null,
   "id": "6a78b487",
   "metadata": {},
   "outputs": [],
   "source": [
    "#隨機切割\n",
    "x_train, x_test, y_train, y_test = train_test_split(normalized_features, all_label_tran, test_size=0.1, random_state=0)\n",
    "print(x_train.shape, x_test.shape, y_train.shape, y_test.shape)"
   ]
  },
  {
   "cell_type": "code",
   "execution_count": null,
   "id": "2f744c31",
   "metadata": {},
   "outputs": [],
   "source": [
    "#觀察\n",
    "class_counts = np.bincount(y_test)\n",
    "print(class_counts)"
   ]
  },
  {
   "cell_type": "code",
   "execution_count": null,
   "id": "55f70500",
   "metadata": {},
   "outputs": [],
   "source": [
    "# 建立 XGBClassifier 模型\n",
    "bst = xgb.XGBClassifier(n_estimators=110, \n",
    "                        max_depth=6,\n",
    "                        booster = 'gbtree',\n",
    "                        subsample = 1, #默認\n",
    "                        colsample_bytree = 0.7, #默認                \n",
    "                        learning_rate=0.2, #學習率\n",
    "                        num_class=12,\n",
    "                        objective='multi:softmax',\n",
    "                        tree_method='hist',\n",
    "                        device='cuda',\n",
    "                        eval_metric= 'mlogloss', #mlogloss merror\n",
    "                        #early_stopping_rounds=10, \n",
    "                        random_state=10)"
   ]
  },
  {
   "cell_type": "code",
   "execution_count": null,
   "id": "7a8c3465",
   "metadata": {},
   "outputs": [],
   "source": [
    "# 使用訓練資料訓練模型\n",
    "eval_set = [(x_train, y_train), (x_test, y_test)]#在每個訓練輪次（epoch 或 boosting round）時評估其效能\n",
    "xgboost = bst.fit(x_train, y_train) # eval_set=eval_set"
   ]
  },
  {
   "cell_type": "code",
   "execution_count": null,
   "id": "be5a79e0",
   "metadata": {},
   "outputs": [],
   "source": [
    "# 使用訓練資料預測分類\n",
    "preds = bst.predict(x_test)"
   ]
  },
  {
   "cell_type": "code",
   "execution_count": null,
   "id": "21d305fc",
   "metadata": {},
   "outputs": [],
   "source": [
    "#accuracy多少\n",
    "accuracy = accuracy_score(y_test, preds)\n",
    "print(\"Accuracy: %.2f%%\" % (accuracy * 100.0))\n",
    "\n",
    "print('訓練集: ',bst.score(x_train,y_train))\n",
    "print('測試集: ',bst.score(x_test,y_test))"
   ]
  },
  {
   "cell_type": "code",
   "execution_count": null,
   "id": "9d098412",
   "metadata": {},
   "outputs": [],
   "source": [
    "#精確度\n",
    "precision = precision_score(y_test, preds, average='weighted')\n",
    "print(\"Precision: %.2f%%\" % (precision * 100.0))\n",
    "\n",
    "#召回率\n",
    "recall = recall_score(y_test, preds, average='weighted')\n",
    "print(\"Recall: %.2f%%\" % (recall * 100.0))\n",
    "\n",
    "#f1-score分數 (精确度和召回率的调和平均值)\n",
    "f1 = f1_score(y_test, preds, average='weighted')\n",
    "print(\"F1-score: %.2f%%\" % (f1 * 100.0))"
   ]
  },
  {
   "cell_type": "code",
   "execution_count": null,
   "id": "65fb8de0",
   "metadata": {},
   "outputs": [],
   "source": [
    "#混淆矩陣熱力圖\n",
    "rcParams['font.family'] = 'Microsoft JhengHei'\n",
    "cm=confusion_matrix(y_test, preds)\n",
    "\n",
    "import seaborn as sns\n",
    "cm_label = ['Benign', 'DrDoS_DNS', 'DrDoS_LDAP', 'DrDoS_MSSQL', 'DrDoS_NTP', 'DrDoS_NetBIOS', 'DrDoS_SNMP', 'DrDoS_SSDP', 'DrDoS_UDP', 'Syn', 'TFTP', 'UDP-lag']\n",
    "plt.figure(figsize=(16, 13))\n",
    "cms = sns.heatmap(cm, annot=True, cmap='Blues', fmt='d',annot_kws={\"size\": 10, \"verticalalignment\": \"center\", \"horizontalalignment\": \"center\"},vmin=0, vmax=10000)\n",
    "plt.xlabel('Y_test labels',fontsize=15)\n",
    "plt.ylabel('Predicted labels',rotation=90,fontsize=15)\n",
    "plt.title('Confusion Matrix(第三次實驗)',fontsize=20)\n",
    "cms.set_xticklabels(cm_label, rotation=45, ha='right',fontsize=14)\n",
    "cms.set_yticklabels(cm_label, rotation=0,fontsize=14)\n",
    "plt.show()"
   ]
  },
  {
   "cell_type": "code",
   "execution_count": null,
   "id": "a93d9b97",
   "metadata": {},
   "outputs": [],
   "source": [
    "print(\"\\n precision、recall、f1詳細資訊\")\n",
    "classification = classification_report(y_test, preds)\n",
    "print(classification)"
   ]
  },
  {
   "cell_type": "code",
   "execution_count": null,
   "id": "bf439765",
   "metadata": {},
   "outputs": [],
   "source": [
    "# 繪製特徵重要性\n",
    "rcParams['font.family'] = 'Microsoft JhengHei'\n",
    "plt.rcParams['font.size'] = 9\n",
    "plt.figure(figsize=(20, 130), dpi=300)  # 调整图像尺寸和 DPI\n",
    "xgb.plot_importance(bst, importance_type='weight', max_num_features=20, height=0.5)\n",
    "plt.title('XGBoost 特徵重要性（第三次實驗）', fontsize=12)\n",
    "plt.tight_layout()\n",
    "#plt.savefig('xgb_feature_importance.pdf', bbox_inches='tight') \n",
    "plt.show()"
   ]
  },
  {
   "cell_type": "code",
   "execution_count": null,
   "id": "5ced3104",
   "metadata": {},
   "outputs": [],
   "source": [
    "#correlation matrix\n",
    "import seaborn as sns\n",
    "selected_features = [\"Destination Port\", \"Flow ID\", \"Source Port\", \"Timestamp\", \"Flow Bytes/s\", \"Fwd Seg Size Min\", \"Fwd Packets Length Total\", \"Flow Duration\", \"Flow IAT Min\", \"Fwd Packet Length Max\", \"Packet Length Min\", \"Packet Length Max\", \"Flow IAT Std\", \"Fwd IAT Std\", \"Fwd Packet Length Min\", \"Avg Packet Size\", \"Flow IAT Max\", \"Fwd Packet Length Mean\", \"Fwd IAT Min\", \"Flow Packets/s\"]\n",
    "selected_features_1 = all_feature[[\"Destination Port\", \"Flow ID\", \"Source Port\", \"Timestamp\", \"Flow Bytes/s\", \"Fwd Seg Size Min\", \"Fwd Packets Length Total\", \"Flow IAT Min\"]]\n",
    "xgboost_feature_15 = all_feature[[\"Destination Port\", \"Flow ID\", \"Source Port\", \"Timestamp\", \"Flow Bytes/s\", \"Fwd Seg Size Min\", \"Fwd Packets Length Total\", \"Flow Duration\", \"Flow IAT Min\", \"Fwd Packet Length Max\", \"Packet Length Min\", \"Packet Length Max\", \"Flow IAT Std\", \"Fwd IAT Std\", \"Fwd Packet Length Min\"]]\n",
    "xgboost_feature_10 = all_feature[[\"Destination Port\", \"Flow ID\", \"Source Port\", \"Timestamp\", \"Flow Bytes/s\", \"Fwd Seg Size Min\", \"Fwd Packets Length Total\", \"Flow Duration\", \"Flow IAT Min\", \"Fwd Packet Length Max\"]]\n",
    "xgboost_feature_5 = all_feature[[\"Destination Port\", \"Flow ID\", \"Source Port\", \"Timestamp\", \"Flow Bytes/s\"]]\n",
    "xgboost_feature_4 = all_feature[[\"Destination Port\", \"Flow ID\", \"Source Port\", \"Timestamp\"]]\n",
    "corr_matrix = selected_features_1.corr()\n",
    "plt.figure(figsize=(12, 10))\n",
    "sns.heatmap(corr_matrix, \n",
    "            annot=True,        # 顯示數值\n",
    "            fmt=\".2f\",         # 小數點格式\n",
    "            cmap='coolwarm',   # 顏色樣式\n",
    "            square=True,\n",
    "            linewidths=0.5,\n",
    "            cbar_kws={\"shrink\": .8})\n",
    "\n",
    "plt.title(\"Feature Correlation Matrix\", fontsize=16)\n",
    "plt.tight_layout()\n",
    "plt.show()"
   ]
  },
  {
   "cell_type": "code",
   "execution_count": null,
   "id": "d53832ac",
   "metadata": {},
   "outputs": [],
   "source": [
    "import pandas as pd\n",
    "import numpy as np\n",
    "\n",
    "# 計算相關係數矩陣\n",
    "corr_matrix = all_feature[selected_features].corr().abs()\n",
    "\n",
    "# 取上三角矩陣避免重複檢查\n",
    "upper = corr_matrix.where(np.triu(np.ones(corr_matrix.shape), k=1).astype(bool))\n",
    "\n",
    "# 找出高相關特徵（> 0.8）\n",
    "to_drop = [column for column in upper.columns if any(upper[column] > 0.9)]\n",
    "\n",
    "# 移除這些特徵\n",
    "df_reduced = all_feature[selected_features].drop(columns=to_drop)\n",
    "print(df_reduced)"
   ]
  },
  {
   "cell_type": "code",
   "execution_count": null,
   "id": "0fd23ff2",
   "metadata": {},
   "outputs": [],
   "source": [
    "# 獲取樹的結構\n",
    "trees = bst.get_booster().get_dump()\n",
    "for tree in trees:\n",
    "    print(tree)"
   ]
  },
  {
   "cell_type": "code",
   "execution_count": null,
   "id": "2b07cc35",
   "metadata": {},
   "outputs": [],
   "source": [
    "# 繪製模型中的第一棵樹\n",
    "#plt.figure(figsize=(300, 300), dpi=300)\n",
    "#xgb.plot_tree(bst, num_trees=0)\n",
    "#plt.show()"
   ]
  },
  {
   "cell_type": "code",
   "execution_count": null,
   "id": "ca6db5ba",
   "metadata": {},
   "outputs": [],
   "source": [
    "#列印出特徵名\n",
    "importance = bst.get_booster().get_score(importance_type='weight')\n",
    "\n",
    "feature_importance_df = pd.DataFrame(\n",
    "    list(importance.items()), columns=['Feature', 'Importance']\n",
    ").sort_values(by='Importance', ascending=False)\n",
    "\n",
    "print(\"特徵名稱（依重要性排序）：\")\n",
    "for f in feature_importance_df['Feature']:\n",
    "    print(f\" {f}\")"
   ]
  }
 ],
 "metadata": {
  "kernelspec": {
   "display_name": "tensorflow02",
   "language": "python",
   "name": "python3"
  },
  "language_info": {
   "codemirror_mode": {
    "name": "ipython",
    "version": 3
   },
   "file_extension": ".py",
   "mimetype": "text/x-python",
   "name": "python",
   "nbconvert_exporter": "python",
   "pygments_lexer": "ipython3",
   "version": "3.9.20"
  }
 },
 "nbformat": 4,
 "nbformat_minor": 5
}
